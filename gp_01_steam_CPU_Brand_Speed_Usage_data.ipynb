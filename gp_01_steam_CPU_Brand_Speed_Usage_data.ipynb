{
 "cells": [
  {
   "cell_type": "code",
   "execution_count": 63,
   "metadata": {},
   "outputs": [],
   "source": [
    "from bs4 import BeautifulSoup\n",
    "import requests\n",
    "import pandas as pd"
   ]
  },
  {
   "cell_type": "code",
   "execution_count": 64,
   "metadata": {},
   "outputs": [],
   "source": [
    "url = 'https://store.steampowered.com/hwsurvey/processormfg/'\n",
    "request = requests.get(url)\n",
    "soup = BeautifulSoup(request.content, 'html.parser')"
   ]
  },
  {
   "cell_type": "code",
   "execution_count": 65,
   "metadata": {},
   "outputs": [
    {
     "data": {
      "text/plain": [
       "'INTEL CPU SPEEDS (WINDOWS)'"
      ]
     },
     "execution_count": 65,
     "metadata": {},
     "output_type": "execute_result"
    }
   ],
   "source": [
    "intel_table_header = soup.find_all('div', class_='substats_col_left col_header')\n",
    "#strip the html tags\n",
    "intel_table_header = [x.text.strip() for x in intel_table_header]\n",
    "#only keep the first element\n",
    "intel_table_header = intel_table_header[1]\n",
    "intel_table_header"
   ]
  },
  {
   "cell_type": "code",
   "execution_count": 66,
   "metadata": {},
   "outputs": [
    {
     "data": {
      "text/plain": [
       "['OCT', 'NOV', 'DEC', 'JAN']"
      ]
     },
     "execution_count": 66,
     "metadata": {},
     "output_type": "execute_result"
    }
   ],
   "source": [
    "table_months = soup.find_all('div', class_='substats_col_month col_header')\n",
    "#keep only the first 4 elements\n",
    "table_months = table_months[:4]\n",
    "#strip the html tags\n",
    "table_months = [x.text.strip() for x in table_months]\n",
    "table_months"
   ]
  },
  {
   "cell_type": "code",
   "execution_count": 67,
   "metadata": {},
   "outputs": [
    {
     "data": {
      "text/plain": [
       "'FEB'"
      ]
     },
     "execution_count": 67,
     "metadata": {},
     "output_type": "execute_result"
    }
   ],
   "source": [
    "last_month = soup.find_all('div', class_='substats_col_month_last_pct col_header')\n",
    "#strip the html tags\n",
    "last_month = [x.text.strip() for x in last_month]\n",
    "#only keep the first element\n",
    "last_month = last_month[0]\n",
    "last_month"
   ]
  },
  {
   "cell_type": "code",
   "execution_count": 68,
   "metadata": {},
   "outputs": [
    {
     "data": {
      "text/plain": [
       "['INTEL CPU SPEEDS (WINDOWS)', 'OCT', 'NOV', 'DEC', 'JAN', 'FEB', '% Change']"
      ]
     },
     "execution_count": 68,
     "metadata": {},
     "output_type": "execute_result"
    }
   ],
   "source": [
    "#combine all the lists into one list\n",
    "intel_table_header = [intel_table_header] + table_months + [last_month]\n",
    "intel_table_header\n",
    "#add in a column titled % change\n",
    "intel_table_header.append('% Change')\n",
    "intel_table_header"
   ]
  },
  {
   "cell_type": "code",
   "execution_count": 69,
   "metadata": {},
   "outputs": [
    {
     "data": {
      "text/html": [
       "<div>\n",
       "<style scoped>\n",
       "    .dataframe tbody tr th:only-of-type {\n",
       "        vertical-align: middle;\n",
       "    }\n",
       "\n",
       "    .dataframe tbody tr th {\n",
       "        vertical-align: top;\n",
       "    }\n",
       "\n",
       "    .dataframe thead th {\n",
       "        text-align: right;\n",
       "    }\n",
       "</style>\n",
       "<table border=\"1\" class=\"dataframe\">\n",
       "  <thead>\n",
       "    <tr style=\"text-align: right;\">\n",
       "      <th></th>\n",
       "      <th>INTEL CPU SPEEDS (WINDOWS)</th>\n",
       "      <th>OCT</th>\n",
       "      <th>NOV</th>\n",
       "      <th>DEC</th>\n",
       "      <th>JAN</th>\n",
       "      <th>FEB</th>\n",
       "      <th>% Change</th>\n",
       "    </tr>\n",
       "  </thead>\n",
       "  <tbody>\n",
       "  </tbody>\n",
       "</table>\n",
       "</div>"
      ],
      "text/plain": [
       "Empty DataFrame\n",
       "Columns: [INTEL CPU SPEEDS (WINDOWS), OCT, NOV, DEC, JAN, FEB, % Change]\n",
       "Index: []"
      ]
     },
     "execution_count": 69,
     "metadata": {},
     "output_type": "execute_result"
    }
   ],
   "source": [
    "#turn the list into a dataframe where each element is a column header\n",
    "intel_df = pd.DataFrame(intel_table_header)\n",
    "intel_df = intel_df.T\n",
    "intel_df.columns = intel_df.iloc[0]\n",
    "intel_df = intel_df[1:]\n",
    "intel_df"
   ]
  },
  {
   "cell_type": "code",
   "execution_count": 81,
   "metadata": {},
   "outputs": [],
   "source": [
    "CPU_speed = soup.find_all('div', class_='substats_col_left')\n",
    "#strip the html tags\n",
    "CPU_speed = [x.text.strip() for x in CPU_speed]\n",
    "CPU_speed = CPU_speed[5:15]\n"
   ]
  },
  {
   "cell_type": "code",
   "execution_count": 71,
   "metadata": {},
   "outputs": [],
   "source": [
    "OCT_usage = soup.find_all('div', class_='substats_col_month')\n",
    "#strip the html tags\n",
    "OCT_usage = [x.text.strip() for x in OCT_usage]\n",
    "OCT_usage = OCT_usage[20:]\n",
    "#only keep every 4th element\n",
    "OCT_usage = OCT_usage[::4]\n",
    "OCT_usage = OCT_usage[:10]\n",
    "\n",
    "NOV_usage = soup.find_all('div', class_='substats_col_month')\n",
    "#strip the html tags\n",
    "NOV_usage = [x.text.strip() for x in NOV_usage]\n",
    "NOV_usage = NOV_usage[20:]\n",
    "#only keep every 4th element\n",
    "NOV_usage = NOV_usage[1::4]\n",
    "NOV_usage = NOV_usage[:10]\n",
    "\n",
    "DEC_usage = soup.find_all('div', class_='substats_col_month')\n",
    "#strip the html tags\n",
    "DEC_usage = [x.text.strip() for x in DEC_usage]\n",
    "DEC_usage = DEC_usage[20:]\n",
    "#only keep every 4th element\n",
    "DEC_usage = DEC_usage[2::4]\n",
    "DEC_usage = DEC_usage[:10]\n",
    "\n",
    "JAN_usage = soup.find_all('div', class_='substats_col_month')\n",
    "#strip the html tags\n",
    "JAN_usage = [x.text.strip() for x in JAN_usage]\n",
    "JAN_usage = JAN_usage[20:]\n",
    "#only keep every 4th element\n",
    "JAN_usage = JAN_usage[3::4]\n",
    "JAN_usage = JAN_usage[:10]\n",
    "\n",
    "FEB_usage = soup.find_all('div', class_='substats_col_month_last_pct')\n",
    "#strip the html tags\n",
    "FEB_usage = [x.text.strip() for x in FEB_usage]\n",
    "FEB_usage = FEB_usage[5:15]\n",
    "\n"
   ]
  },
  {
   "cell_type": "code",
   "execution_count": 72,
   "metadata": {},
   "outputs": [],
   "source": [
    "percent_change = soup.find_all('div', class_='substats_col_month_last_chg')\n",
    "#strip the html tags\n",
    "percent_change = [x.text.strip() for x in percent_change]\n",
    "percent_change = percent_change[5:15]"
   ]
  },
  {
   "cell_type": "code",
   "execution_count": 73,
   "metadata": {},
   "outputs": [
    {
     "data": {
      "text/html": [
       "<div>\n",
       "<style scoped>\n",
       "    .dataframe tbody tr th:only-of-type {\n",
       "        vertical-align: middle;\n",
       "    }\n",
       "\n",
       "    .dataframe tbody tr th {\n",
       "        vertical-align: top;\n",
       "    }\n",
       "\n",
       "    .dataframe thead th {\n",
       "        text-align: right;\n",
       "    }\n",
       "</style>\n",
       "<table border=\"1\" class=\"dataframe\">\n",
       "  <thead>\n",
       "    <tr style=\"text-align: right;\">\n",
       "      <th></th>\n",
       "      <th>INTEL CPU SPEEDS (WINDOWS)</th>\n",
       "      <th>OCT</th>\n",
       "      <th>NOV</th>\n",
       "      <th>DEC</th>\n",
       "      <th>JAN</th>\n",
       "      <th>FEB</th>\n",
       "      <th>% Change</th>\n",
       "    </tr>\n",
       "  </thead>\n",
       "  <tbody>\n",
       "    <tr>\n",
       "      <th>0</th>\n",
       "      <td>2.3 Ghz to 2.69 Ghz</td>\n",
       "      <td>22.99%</td>\n",
       "      <td>21.72%</td>\n",
       "      <td>21.60%</td>\n",
       "      <td>22.01%</td>\n",
       "      <td>22.85%</td>\n",
       "      <td>+0.84%</td>\n",
       "    </tr>\n",
       "    <tr>\n",
       "      <th>1</th>\n",
       "      <td>3.3 Ghz to 3.69 Ghz</td>\n",
       "      <td>13.20%</td>\n",
       "      <td>15.11%</td>\n",
       "      <td>15.07%</td>\n",
       "      <td>15.14%</td>\n",
       "      <td>14.65%</td>\n",
       "      <td>-0.49%</td>\n",
       "    </tr>\n",
       "    <tr>\n",
       "      <th>2</th>\n",
       "      <td>2.7 Ghz to 2.99 Ghz</td>\n",
       "      <td>20.52%</td>\n",
       "      <td>12.39%</td>\n",
       "      <td>12.59%</td>\n",
       "      <td>12.11%</td>\n",
       "      <td>14.24%</td>\n",
       "      <td>+2.13%</td>\n",
       "    </tr>\n",
       "    <tr>\n",
       "      <th>3</th>\n",
       "      <td>3.0 Ghz to 3.29 Ghz</td>\n",
       "      <td>6.81%</td>\n",
       "      <td>6.62%</td>\n",
       "      <td>6.57%</td>\n",
       "      <td>6.56%</td>\n",
       "      <td>6.43%</td>\n",
       "      <td>-0.13%</td>\n",
       "    </tr>\n",
       "    <tr>\n",
       "      <th>4</th>\n",
       "      <td>2.0 Ghz to 2.29 Ghz</td>\n",
       "      <td>5.70%</td>\n",
       "      <td>4.35%</td>\n",
       "      <td>4.51%</td>\n",
       "      <td>4.14%</td>\n",
       "      <td>4.40%</td>\n",
       "      <td>+0.26%</td>\n",
       "    </tr>\n",
       "    <tr>\n",
       "      <th>5</th>\n",
       "      <td>3.7 Ghz and above</td>\n",
       "      <td>2.89%</td>\n",
       "      <td>2.94%</td>\n",
       "      <td>2.90%</td>\n",
       "      <td>2.79%</td>\n",
       "      <td>2.69%</td>\n",
       "      <td>-0.10%</td>\n",
       "    </tr>\n",
       "    <tr>\n",
       "      <th>6</th>\n",
       "      <td>1.7 Ghz to 1.99 Ghz</td>\n",
       "      <td>1.14%</td>\n",
       "      <td>1.48%</td>\n",
       "      <td>1.51%</td>\n",
       "      <td>1.47%</td>\n",
       "      <td>1.32%</td>\n",
       "      <td>-0.15%</td>\n",
       "    </tr>\n",
       "    <tr>\n",
       "      <th>7</th>\n",
       "      <td>Below 1.4 Ghz</td>\n",
       "      <td>0.76%</td>\n",
       "      <td>1.00%</td>\n",
       "      <td>1.05%</td>\n",
       "      <td>1.00%</td>\n",
       "      <td>0.90%</td>\n",
       "      <td>-0.10%</td>\n",
       "    </tr>\n",
       "    <tr>\n",
       "      <th>8</th>\n",
       "      <td>1.5 Ghz to 1.69 Ghz</td>\n",
       "      <td>0.20%</td>\n",
       "      <td>0.26%</td>\n",
       "      <td>0.27%</td>\n",
       "      <td>0.26%</td>\n",
       "      <td>0.23%</td>\n",
       "      <td>-0.03%</td>\n",
       "    </tr>\n",
       "    <tr>\n",
       "      <th>9</th>\n",
       "      <td>1.4 Ghz to 1.49 Ghz</td>\n",
       "      <td>0.17%</td>\n",
       "      <td>0.23%</td>\n",
       "      <td>0.23%</td>\n",
       "      <td>0.23%</td>\n",
       "      <td>0.19%</td>\n",
       "      <td>-0.04%</td>\n",
       "    </tr>\n",
       "  </tbody>\n",
       "</table>\n",
       "</div>"
      ],
      "text/plain": [
       "0 INTEL CPU SPEEDS (WINDOWS)     OCT     NOV     DEC     JAN     FEB % Change\n",
       "0        2.3 Ghz to 2.69 Ghz  22.99%  21.72%  21.60%  22.01%  22.85%   +0.84%\n",
       "1        3.3 Ghz to 3.69 Ghz  13.20%  15.11%  15.07%  15.14%  14.65%   -0.49%\n",
       "2        2.7 Ghz to 2.99 Ghz  20.52%  12.39%  12.59%  12.11%  14.24%   +2.13%\n",
       "3        3.0 Ghz to 3.29 Ghz   6.81%   6.62%   6.57%   6.56%   6.43%   -0.13%\n",
       "4        2.0 Ghz to 2.29 Ghz   5.70%   4.35%   4.51%   4.14%   4.40%   +0.26%\n",
       "5          3.7 Ghz and above   2.89%   2.94%   2.90%   2.79%   2.69%   -0.10%\n",
       "6        1.7 Ghz to 1.99 Ghz   1.14%   1.48%   1.51%   1.47%   1.32%   -0.15%\n",
       "7              Below 1.4 Ghz   0.76%   1.00%   1.05%   1.00%   0.90%   -0.10%\n",
       "8        1.5 Ghz to 1.69 Ghz   0.20%   0.26%   0.27%   0.26%   0.23%   -0.03%\n",
       "9        1.4 Ghz to 1.49 Ghz   0.17%   0.23%   0.23%   0.23%   0.19%   -0.04%"
      ]
     },
     "execution_count": 73,
     "metadata": {},
     "output_type": "execute_result"
    }
   ],
   "source": [
    "intel_df['INTEL CPU SPEEDS (WINDOWS)'] = CPU_speed\n",
    "intel_df['OCT'] = OCT_usage\n",
    "intel_df['NOV'] = NOV_usage\n",
    "intel_df['DEC'] = DEC_usage\n",
    "intel_df['JAN'] = JAN_usage\n",
    "intel_df['FEB'] = FEB_usage\n",
    "intel_df['% Change'] = percent_change\n",
    "intel_df"
   ]
  },
  {
   "cell_type": "code",
   "execution_count": 74,
   "metadata": {},
   "outputs": [
    {
     "data": {
      "text/plain": [
       "'AMD CPU SPEEDS (WINDOWS)'"
      ]
     },
     "execution_count": 74,
     "metadata": {},
     "output_type": "execute_result"
    }
   ],
   "source": [
    "AMD_table_header = soup.find_all('div', class_='substats_col_left col_header')\n",
    "#strip the html tags\n",
    "AMD_table_header = [x.text.strip() for x in AMD_table_header]\n",
    "#only keep the first element\n",
    "AMD_table_header = AMD_table_header[2]\n",
    "AMD_table_header"
   ]
  },
  {
   "cell_type": "code",
   "execution_count": 75,
   "metadata": {},
   "outputs": [
    {
     "data": {
      "text/plain": [
       "['AMD CPU SPEEDS (WINDOWS)', 'OCT', 'NOV', 'DEC', 'JAN', 'FEB', '% Change']"
      ]
     },
     "execution_count": 75,
     "metadata": {},
     "output_type": "execute_result"
    }
   ],
   "source": [
    "#combine all the lists into one list\n",
    "AMD_table_header = [AMD_table_header] + table_months + [last_month]\n",
    "AMD_table_header\n",
    "#add in a column titled % change\n",
    "AMD_table_header.append('% Change')\n",
    "AMD_table_header"
   ]
  },
  {
   "cell_type": "code",
   "execution_count": 77,
   "metadata": {},
   "outputs": [
    {
     "data": {
      "text/html": [
       "<div>\n",
       "<style scoped>\n",
       "    .dataframe tbody tr th:only-of-type {\n",
       "        vertical-align: middle;\n",
       "    }\n",
       "\n",
       "    .dataframe tbody tr th {\n",
       "        vertical-align: top;\n",
       "    }\n",
       "\n",
       "    .dataframe thead th {\n",
       "        text-align: right;\n",
       "    }\n",
       "</style>\n",
       "<table border=\"1\" class=\"dataframe\">\n",
       "  <thead>\n",
       "    <tr style=\"text-align: right;\">\n",
       "      <th></th>\n",
       "      <th>AMD CPU SPEEDS (WINDOWS)</th>\n",
       "      <th>OCT</th>\n",
       "      <th>NOV</th>\n",
       "      <th>DEC</th>\n",
       "      <th>JAN</th>\n",
       "      <th>FEB</th>\n",
       "      <th>% Change</th>\n",
       "    </tr>\n",
       "  </thead>\n",
       "  <tbody>\n",
       "  </tbody>\n",
       "</table>\n",
       "</div>"
      ],
      "text/plain": [
       "Empty DataFrame\n",
       "Columns: [AMD CPU SPEEDS (WINDOWS), OCT, NOV, DEC, JAN, FEB, % Change]\n",
       "Index: []"
      ]
     },
     "execution_count": 77,
     "metadata": {},
     "output_type": "execute_result"
    }
   ],
   "source": [
    "#turn the list into a dataframe where each element is a column header\n",
    "AMD_df = pd.DataFrame(AMD_table_header)\n",
    "AMD_df = AMD_df.T\n",
    "AMD_df.columns = AMD_df.iloc[0]\n",
    "AMD_df = AMD_df[1:]\n",
    "AMD_df"
   ]
  },
  {
   "cell_type": "code",
   "execution_count": 80,
   "metadata": {},
   "outputs": [],
   "source": [
    "CPU_speed = soup.find_all('div', class_='substats_col_left')\n",
    "#strip the html tags\n",
    "CPU_speed = [x.text.strip() for x in CPU_speed]\n",
    "CPU_speed = CPU_speed[16:26]\n"
   ]
  },
  {
   "cell_type": "code",
   "execution_count": 88,
   "metadata": {},
   "outputs": [],
   "source": [
    "OCT_usage = soup.find_all('div', class_='substats_col_month')\n",
    "#strip the html tags\n",
    "OCT_usage = [x.text.strip() for x in OCT_usage]\n",
    "OCT_usage = OCT_usage[64:]\n",
    "#only keep every 4th element\n",
    "OCT_usage = OCT_usage[::4]\n",
    "OCT_usage = OCT_usage[:10]\n",
    "\n",
    "NOV_usage = soup.find_all('div', class_='substats_col_month')\n",
    "#strip the html tags\n",
    "NOV_usage = [x.text.strip() for x in NOV_usage]\n",
    "NOV_usage = NOV_usage[64:]\n",
    "#only keep every 4th element\n",
    "NOV_usage = NOV_usage[1::4]\n",
    "NOV_usage = NOV_usage[:10]\n",
    "\n",
    "DEC_usage = soup.find_all('div', class_='substats_col_month')\n",
    "#strip the html tags\n",
    "DEC_usage = [x.text.strip() for x in DEC_usage]\n",
    "DEC_usage = DEC_usage[64:]\n",
    "#only keep every 4th element\n",
    "DEC_usage = DEC_usage[2::4]\n",
    "DEC_usage = DEC_usage[:10]\n",
    "\n",
    "JAN_usage = soup.find_all('div', class_='substats_col_month')\n",
    "#strip the html tags\n",
    "JAN_usage = [x.text.strip() for x in JAN_usage]\n",
    "JAN_usage = JAN_usage[64:]\n",
    "#only keep every 4th element\n",
    "JAN_usage = JAN_usage[3::4]\n",
    "JAN_usage = JAN_usage[:10]\n",
    "\n",
    "FEB_usage = soup.find_all('div', class_='substats_col_month_last_pct')\n",
    "#strip the html tags\n",
    "FEB_usage = [x.text.strip() for x in FEB_usage]\n",
    "FEB_usage = FEB_usage[16:26]\n"
   ]
  },
  {
   "cell_type": "code",
   "execution_count": 93,
   "metadata": {},
   "outputs": [],
   "source": [
    "percent_change = soup.find_all('div', class_='substats_col_month_last_chg')\n",
    "#strip the html tags\n",
    "percent_change = [x.text.strip() for x in percent_change]\n",
    "percent_change = percent_change[16:26]\n"
   ]
  },
  {
   "cell_type": "code",
   "execution_count": 94,
   "metadata": {},
   "outputs": [
    {
     "data": {
      "text/html": [
       "<div>\n",
       "<style scoped>\n",
       "    .dataframe tbody tr th:only-of-type {\n",
       "        vertical-align: middle;\n",
       "    }\n",
       "\n",
       "    .dataframe tbody tr th {\n",
       "        vertical-align: top;\n",
       "    }\n",
       "\n",
       "    .dataframe thead th {\n",
       "        text-align: right;\n",
       "    }\n",
       "</style>\n",
       "<table border=\"1\" class=\"dataframe\">\n",
       "  <thead>\n",
       "    <tr style=\"text-align: right;\">\n",
       "      <th></th>\n",
       "      <th>AMD CPU SPEEDS (WINDOWS)</th>\n",
       "      <th>OCT</th>\n",
       "      <th>NOV</th>\n",
       "      <th>DEC</th>\n",
       "      <th>JAN</th>\n",
       "      <th>FEB</th>\n",
       "      <th>% Change</th>\n",
       "    </tr>\n",
       "  </thead>\n",
       "  <tbody>\n",
       "    <tr>\n",
       "      <th>0</th>\n",
       "      <td>2.3 Ghz to 2.69 Ghz</td>\n",
       "      <td>10.33%</td>\n",
       "      <td>13.01%</td>\n",
       "      <td>12.93%</td>\n",
       "      <td>12.93%</td>\n",
       "      <td>12.39%</td>\n",
       "      <td>-0.54%</td>\n",
       "    </tr>\n",
       "    <tr>\n",
       "      <th>1</th>\n",
       "      <td>3.3 Ghz to 3.69 Ghz</td>\n",
       "      <td>7.36%</td>\n",
       "      <td>10.00%</td>\n",
       "      <td>10.19%</td>\n",
       "      <td>10.45%</td>\n",
       "      <td>9.89%</td>\n",
       "      <td>-0.56%</td>\n",
       "    </tr>\n",
       "    <tr>\n",
       "      <th>2</th>\n",
       "      <td>2.7 Ghz to 2.99 Ghz</td>\n",
       "      <td>4.30%</td>\n",
       "      <td>6.09%</td>\n",
       "      <td>5.74%</td>\n",
       "      <td>6.05%</td>\n",
       "      <td>5.47%</td>\n",
       "      <td>-0.58%</td>\n",
       "    </tr>\n",
       "    <tr>\n",
       "      <th>3</th>\n",
       "      <td>3.0 Ghz to 3.29 Ghz</td>\n",
       "      <td>1.23%</td>\n",
       "      <td>1.68%</td>\n",
       "      <td>1.65%</td>\n",
       "      <td>1.66%</td>\n",
       "      <td>1.50%</td>\n",
       "      <td>-0.16%</td>\n",
       "    </tr>\n",
       "    <tr>\n",
       "      <th>4</th>\n",
       "      <td>2.0 Ghz to 2.29 Ghz</td>\n",
       "      <td>1.20%</td>\n",
       "      <td>1.55%</td>\n",
       "      <td>1.56%</td>\n",
       "      <td>1.54%</td>\n",
       "      <td>1.35%</td>\n",
       "      <td>-0.19%</td>\n",
       "    </tr>\n",
       "    <tr>\n",
       "      <th>5</th>\n",
       "      <td>3.7 Ghz and above</td>\n",
       "      <td>0.66%</td>\n",
       "      <td>0.90%</td>\n",
       "      <td>0.91%</td>\n",
       "      <td>0.94%</td>\n",
       "      <td>0.86%</td>\n",
       "      <td>-0.08%</td>\n",
       "    </tr>\n",
       "    <tr>\n",
       "      <th>6</th>\n",
       "      <td>1.7 Ghz to 1.99 Ghz</td>\n",
       "      <td>0.42%</td>\n",
       "      <td>0.56%</td>\n",
       "      <td>0.59%</td>\n",
       "      <td>0.59%</td>\n",
       "      <td>0.53%</td>\n",
       "      <td>-0.06%</td>\n",
       "    </tr>\n",
       "    <tr>\n",
       "      <th>7</th>\n",
       "      <td>Below 1.4 Ghz</td>\n",
       "      <td>0.04%</td>\n",
       "      <td>0.04%</td>\n",
       "      <td>0.05%</td>\n",
       "      <td>0.04%</td>\n",
       "      <td>0.04%</td>\n",
       "      <td>0.00%</td>\n",
       "    </tr>\n",
       "    <tr>\n",
       "      <th>8</th>\n",
       "      <td>1.5 Ghz to 1.69 Ghz</td>\n",
       "      <td>0.02%</td>\n",
       "      <td>0.02%</td>\n",
       "      <td>0.02%</td>\n",
       "      <td>0.02%</td>\n",
       "      <td>0.02%</td>\n",
       "      <td>0.00%</td>\n",
       "    </tr>\n",
       "    <tr>\n",
       "      <th>9</th>\n",
       "      <td>1.4 Ghz to 1.49 Ghz</td>\n",
       "      <td>0.02%</td>\n",
       "      <td>0.03%</td>\n",
       "      <td>0.02%</td>\n",
       "      <td>0.02%</td>\n",
       "      <td>0.02%</td>\n",
       "      <td>0.00%</td>\n",
       "    </tr>\n",
       "  </tbody>\n",
       "</table>\n",
       "</div>"
      ],
      "text/plain": [
       "0 AMD CPU SPEEDS (WINDOWS)     OCT     NOV     DEC     JAN     FEB % Change\n",
       "0      2.3 Ghz to 2.69 Ghz  10.33%  13.01%  12.93%  12.93%  12.39%   -0.54%\n",
       "1      3.3 Ghz to 3.69 Ghz   7.36%  10.00%  10.19%  10.45%   9.89%   -0.56%\n",
       "2      2.7 Ghz to 2.99 Ghz   4.30%   6.09%   5.74%   6.05%   5.47%   -0.58%\n",
       "3      3.0 Ghz to 3.29 Ghz   1.23%   1.68%   1.65%   1.66%   1.50%   -0.16%\n",
       "4      2.0 Ghz to 2.29 Ghz   1.20%   1.55%   1.56%   1.54%   1.35%   -0.19%\n",
       "5        3.7 Ghz and above   0.66%   0.90%   0.91%   0.94%   0.86%   -0.08%\n",
       "6      1.7 Ghz to 1.99 Ghz   0.42%   0.56%   0.59%   0.59%   0.53%   -0.06%\n",
       "7            Below 1.4 Ghz   0.04%   0.04%   0.05%   0.04%   0.04%    0.00%\n",
       "8      1.5 Ghz to 1.69 Ghz   0.02%   0.02%   0.02%   0.02%   0.02%    0.00%\n",
       "9      1.4 Ghz to 1.49 Ghz   0.02%   0.03%   0.02%   0.02%   0.02%    0.00%"
      ]
     },
     "execution_count": 94,
     "metadata": {},
     "output_type": "execute_result"
    }
   ],
   "source": [
    "AMD_df['AMD CPU SPEEDS (WINDOWS)'] = CPU_speed\n",
    "AMD_df['OCT'] = OCT_usage\n",
    "AMD_df['NOV'] = NOV_usage\n",
    "AMD_df['DEC'] = DEC_usage\n",
    "AMD_df['JAN'] = JAN_usage\n",
    "AMD_df['FEB'] = FEB_usage\n",
    "AMD_df['% Change'] = percent_change\n",
    "AMD_df\n"
   ]
  },
  {
   "cell_type": "code",
   "execution_count": 95,
   "metadata": {},
   "outputs": [],
   "source": [
    "#save the dataframes to csv files\n",
    "intel_df.to_csv('PC_Part_Picker_Datasets/intel_cpu_speeds.csv', index=False)\n",
    "AMD_df.to_csv('PC_Part_Picker_Datasets/AMD_cpu_speeds.csv', index=False)\n"
   ]
  }
 ],
 "metadata": {
  "kernelspec": {
   "display_name": "Python 3",
   "language": "python",
   "name": "python3"
  },
  "language_info": {
   "codemirror_mode": {
    "name": "ipython",
    "version": 3
   },
   "file_extension": ".py",
   "mimetype": "text/x-python",
   "name": "python",
   "nbconvert_exporter": "python",
   "pygments_lexer": "ipython3",
   "version": "3.11.8"
  }
 },
 "nbformat": 4,
 "nbformat_minor": 2
}
