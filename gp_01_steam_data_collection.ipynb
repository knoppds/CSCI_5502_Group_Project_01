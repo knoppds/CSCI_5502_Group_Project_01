{
 "cells": [
  {
   "cell_type": "code",
   "execution_count": null,
   "metadata": {},
   "outputs": [],
   "source": [
    "# import libraries\n",
    "from selenium import webdriver\n",
    "from selenium.webdriver.common.by import By\n",
    "from selenium.webdriver.support.ui import WebDriverWait\n",
    "from selenium.webdriver.support import expected_conditions as EC\n",
    "from bs4 import BeautifulSoup\n",
    "import pandas as pd\n",
    "import re"
   ]
  },
  {
   "cell_type": "code",
   "execution_count": null,
   "metadata": {},
   "outputs": [],
   "source": [
    "# function to grab all HTML content from a page, returns a BeautifulSoup object\n",
    "def get_page_soup(url): \n",
    "\n",
    "    # Create a new instance of the Chrome driver\n",
    "    driver = webdriver.Chrome()\n",
    "\n",
    "    # Navigate to the webpage\n",
    "    driver.get(url)\n",
    "\n",
    "    # Wait up to 10 seconds for an element to be present on the page (adjust the time as needed)\n",
    "    wait = WebDriverWait(driver, 10)\n",
    "    _    = wait.until(lambda driver: driver.find_element(By.XPATH, \"//tr[contains(@class, '_2-')]\"))\n",
    "\n",
    "    # Parse the HTML with BeautifulSoup\n",
    "    soup = BeautifulSoup(driver.page_source, 'html.parser')\n",
    "\n",
    "    # close the browser\n",
    "    driver.quit()"
   ]
  },
  {
   "cell_type": "code",
   "execution_count": null,
   "metadata": {},
   "outputs": [],
   "source": [
    "# Get top 100 games from Steam\n",
    "url = 'https://store.steampowered.com/charts/mostplayed'"
   ]
  },
  {
   "cell_type": "code",
   "execution_count": null,
   "metadata": {},
   "outputs": [],
   "source": [
    "# get all the games listed\n",
    "games = soup.find_all('tr', class_=lambda value: value and value.startswith('_2-'))\n",
    "\n",
    "# create a dictionary to store the data for each game from this page\n",
    "game_data = {game.find('a').text: {'rank'     : game.find_all('td')[1].text,\n",
    "                                   'link'     : game.find('a')['href']     ,\n",
    "                                   'html'     : None                       ,\n",
    "                                   'min_specs': None                       ,\n",
    "                                   'rec_specs': None                       ,} for game in games}\n",
    "\n",
    "df = pd.DataFrame(game_data).T\n",
    "df"
   ]
  }
 ],
 "metadata": {
  "language_info": {
   "name": "python"
  }
 },
 "nbformat": 4,
 "nbformat_minor": 2
}
