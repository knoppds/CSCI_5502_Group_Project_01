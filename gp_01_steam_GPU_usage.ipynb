{
 "cells": [
  {
   "cell_type": "code",
   "execution_count": 127,
   "metadata": {},
   "outputs": [],
   "source": [
    "from bs4 import BeautifulSoup\n",
    "import requests\n",
    "import pandas as pd"
   ]
  },
  {
   "cell_type": "code",
   "execution_count": 128,
   "metadata": {},
   "outputs": [],
   "source": [
    "url = 'https://store.steampowered.com/hwsurvey/videocard/'\n",
    "request = requests.get(url)\n",
    "soup = BeautifulSoup(request.content, 'html.parser')"
   ]
  },
  {
   "cell_type": "code",
   "execution_count": 129,
   "metadata": {},
   "outputs": [
    {
     "data": {
      "text/plain": [
       "'DIRECTX 12 GPUS'"
      ]
     },
     "execution_count": 129,
     "metadata": {},
     "output_type": "execute_result"
    }
   ],
   "source": [
    "table_header = soup.find_all('div', class_='substats_col_left col_header')\n",
    "#strip the html tags\n",
    "table_header = [x.text.strip() for x in table_header]\n",
    "#only keep the first element\n",
    "table_header = table_header[2]\n",
    "table_header"
   ]
  },
  {
   "cell_type": "code",
   "execution_count": 130,
   "metadata": {},
   "outputs": [
    {
     "data": {
      "text/plain": [
       "['OCT', 'NOV', 'DEC', 'JAN']"
      ]
     },
     "execution_count": 130,
     "metadata": {},
     "output_type": "execute_result"
    }
   ],
   "source": [
    "table_months = soup.find_all('div', class_='substats_col_month col_header')\n",
    "#keep only the first 4 elements\n",
    "table_months = table_months[:4]\n",
    "#strip the html tags\n",
    "table_months = [x.text.strip() for x in table_months]\n",
    "table_months"
   ]
  },
  {
   "cell_type": "code",
   "execution_count": 131,
   "metadata": {},
   "outputs": [
    {
     "data": {
      "text/plain": [
       "'FEB'"
      ]
     },
     "execution_count": 131,
     "metadata": {},
     "output_type": "execute_result"
    }
   ],
   "source": [
    "last_month = soup.find_all('div', class_='substats_col_month_last_pct col_header')\n",
    "#strip the html tags\n",
    "last_month = [x.text.strip() for x in last_month]\n",
    "#only keep the first element\n",
    "last_month = last_month[0]\n",
    "last_month"
   ]
  },
  {
   "cell_type": "code",
   "execution_count": 132,
   "metadata": {},
   "outputs": [
    {
     "data": {
      "text/plain": [
       "['DIRECTX 12 GPUS', 'OCT', 'NOV', 'DEC', 'JAN', 'FEB', '% Change']"
      ]
     },
     "execution_count": 132,
     "metadata": {},
     "output_type": "execute_result"
    }
   ],
   "source": [
    "#combine all the lists into one list\n",
    "table_header = [table_header] + table_months + [last_month]\n",
    "table_header\n",
    "#add in a column titled % change\n",
    "table_header.append('% Change')\n",
    "table_header"
   ]
  },
  {
   "cell_type": "code",
   "execution_count": 133,
   "metadata": {},
   "outputs": [
    {
     "data": {
      "text/html": [
       "<div>\n",
       "<style scoped>\n",
       "    .dataframe tbody tr th:only-of-type {\n",
       "        vertical-align: middle;\n",
       "    }\n",
       "\n",
       "    .dataframe tbody tr th {\n",
       "        vertical-align: top;\n",
       "    }\n",
       "\n",
       "    .dataframe thead th {\n",
       "        text-align: right;\n",
       "    }\n",
       "</style>\n",
       "<table border=\"1\" class=\"dataframe\">\n",
       "  <thead>\n",
       "    <tr style=\"text-align: right;\">\n",
       "      <th></th>\n",
       "      <th>DIRECTX 12 GPUS</th>\n",
       "      <th>OCT</th>\n",
       "      <th>NOV</th>\n",
       "      <th>DEC</th>\n",
       "      <th>JAN</th>\n",
       "      <th>FEB</th>\n",
       "      <th>% Change</th>\n",
       "    </tr>\n",
       "  </thead>\n",
       "  <tbody>\n",
       "  </tbody>\n",
       "</table>\n",
       "</div>"
      ],
      "text/plain": [
       "Empty DataFrame\n",
       "Columns: [DIRECTX 12 GPUS, OCT, NOV, DEC, JAN, FEB, % Change]\n",
       "Index: []"
      ]
     },
     "execution_count": 133,
     "metadata": {},
     "output_type": "execute_result"
    }
   ],
   "source": [
    "#turn the list into a dataframe where each element is a column header\n",
    "df = pd.DataFrame(table_header)\n",
    "df = df.T\n",
    "df.columns = df.iloc[0]\n",
    "df = df[1:]\n",
    "df"
   ]
  },
  {
   "cell_type": "code",
   "execution_count": 134,
   "metadata": {},
   "outputs": [],
   "source": [
    "GPU_name = soup.find_all('div', class_='substats_col_left')\n",
    "#strip the html tags\n",
    "GPU_name = [x.text.strip() for x in GPU_name]\n",
    "GPU_name = GPU_name[100:164]\n",
    "\n"
   ]
  },
  {
   "cell_type": "code",
   "execution_count": 135,
   "metadata": {},
   "outputs": [],
   "source": [
    "OCT_usage = soup.find_all('div', class_='substats_col_month')\n",
    "#strip the html tags\n",
    "OCT_usage = [x.text.strip() for x in OCT_usage]\n",
    "OCT_usage = OCT_usage[400:]\n",
    "#only keep every 4th element\n",
    "OCT_usage = OCT_usage[::4]\n",
    "OCT_usage = OCT_usage[:64]\n",
    "\n",
    "#do the same for the other months\n",
    "NOV_usage = soup.find_all('div', class_='substats_col_month')\n",
    "NOV_usage = [x.text.strip() for x in NOV_usage]\n",
    "NOV_usage = NOV_usage[400:]\n",
    "NOV_usage = NOV_usage[1::4]\n",
    "NOV_usage = NOV_usage[:64]\n",
    "\n",
    "DEC_usage = soup.find_all('div', class_='substats_col_month')\n",
    "DEC_usage = [x.text.strip() for x in DEC_usage]\n",
    "DEC_usage = DEC_usage[400:]\n",
    "DEC_usage = DEC_usage[2::4]\n",
    "DEC_usage = DEC_usage[:64]\n",
    "\n",
    "JAN_usage = soup.find_all('div', class_='substats_col_month')\n",
    "JAN_usage = [x.text.strip() for x in JAN_usage]\n",
    "JAN_usage = JAN_usage[400:]\n",
    "JAN_usage = JAN_usage[3::4]\n",
    "JAN_usage = JAN_usage[:64]\n",
    "\n",
    "FEB_usage = soup.find_all('div', class_='substats_col_month_last_pct')\n",
    "FEB_usage = [x.text.strip() for x in FEB_usage]\n",
    "FEB_usage = FEB_usage[100:]\n",
    "FEB_usage = FEB_usage[:64]\n"
   ]
  },
  {
   "cell_type": "code",
   "execution_count": 136,
   "metadata": {},
   "outputs": [],
   "source": [
    "percent_change = soup.find_all('div', class_='substats_col_month_last_chg')\n",
    "percent_change = [x.text.strip() for x in percent_change]\n",
    "percent_change = percent_change[100:]\n",
    "percent_change = percent_change[:64]\n",
    "\n"
   ]
  },
  {
   "cell_type": "code",
   "execution_count": 137,
   "metadata": {},
   "outputs": [
    {
     "data": {
      "text/html": [
       "<div>\n",
       "<style scoped>\n",
       "    .dataframe tbody tr th:only-of-type {\n",
       "        vertical-align: middle;\n",
       "    }\n",
       "\n",
       "    .dataframe tbody tr th {\n",
       "        vertical-align: top;\n",
       "    }\n",
       "\n",
       "    .dataframe thead th {\n",
       "        text-align: right;\n",
       "    }\n",
       "</style>\n",
       "<table border=\"1\" class=\"dataframe\">\n",
       "  <thead>\n",
       "    <tr style=\"text-align: right;\">\n",
       "      <th></th>\n",
       "      <th>DIRECTX 12 GPUS</th>\n",
       "      <th>OCT</th>\n",
       "      <th>NOV</th>\n",
       "      <th>DEC</th>\n",
       "      <th>JAN</th>\n",
       "      <th>FEB</th>\n",
       "      <th>% Change</th>\n",
       "    </tr>\n",
       "  </thead>\n",
       "  <tbody>\n",
       "    <tr>\n",
       "      <th>0</th>\n",
       "      <td>NVIDIA GeForce RTX 3060</td>\n",
       "      <td>10.17%</td>\n",
       "      <td>5.23%</td>\n",
       "      <td>5.53%</td>\n",
       "      <td>5.19%</td>\n",
       "      <td>6.39%</td>\n",
       "      <td>+1.20%</td>\n",
       "    </tr>\n",
       "    <tr>\n",
       "      <th>1</th>\n",
       "      <td>NVIDIA GeForce GTX 1650</td>\n",
       "      <td>3.72%</td>\n",
       "      <td>4.93%</td>\n",
       "      <td>4.90%</td>\n",
       "      <td>4.87%</td>\n",
       "      <td>4.38%</td>\n",
       "      <td>-0.49%</td>\n",
       "    </tr>\n",
       "    <tr>\n",
       "      <th>2</th>\n",
       "      <td>NVIDIA GeForce RTX 2060</td>\n",
       "      <td>6.22%</td>\n",
       "      <td>3.86%</td>\n",
       "      <td>3.87%</td>\n",
       "      <td>3.66%</td>\n",
       "      <td>4.27%</td>\n",
       "      <td>+0.61%</td>\n",
       "    </tr>\n",
       "    <tr>\n",
       "      <th>3</th>\n",
       "      <td>NVIDIA GeForce GTX 1060</td>\n",
       "      <td>5.23%</td>\n",
       "      <td>4.49%</td>\n",
       "      <td>4.06%</td>\n",
       "      <td>3.85%</td>\n",
       "      <td>4.06%</td>\n",
       "      <td>+0.21%</td>\n",
       "    </tr>\n",
       "    <tr>\n",
       "      <th>4</th>\n",
       "      <td>NVIDIA GeForce RTX 3070</td>\n",
       "      <td>5.31%</td>\n",
       "      <td>3.34%</td>\n",
       "      <td>3.49%</td>\n",
       "      <td>3.26%</td>\n",
       "      <td>3.99%</td>\n",
       "      <td>+0.73%</td>\n",
       "    </tr>\n",
       "    <tr>\n",
       "      <th>...</th>\n",
       "      <td>...</td>\n",
       "      <td>...</td>\n",
       "      <td>...</td>\n",
       "      <td>...</td>\n",
       "      <td>...</td>\n",
       "      <td>...</td>\n",
       "      <td>...</td>\n",
       "    </tr>\n",
       "    <tr>\n",
       "      <th>59</th>\n",
       "      <td>AMD Radeon RX 7900 XTX</td>\n",
       "      <td>-</td>\n",
       "      <td>0.33%</td>\n",
       "      <td>0.35%</td>\n",
       "      <td>0.37%</td>\n",
       "      <td>0.36%</td>\n",
       "      <td>-0.01%</td>\n",
       "    </tr>\n",
       "    <tr>\n",
       "      <th>60</th>\n",
       "      <td>AMD Radeon RX 6750 XT</td>\n",
       "      <td>-</td>\n",
       "      <td>0.33%</td>\n",
       "      <td>0.34%</td>\n",
       "      <td>0.36%</td>\n",
       "      <td>0.32%</td>\n",
       "      <td>-0.04%</td>\n",
       "    </tr>\n",
       "    <tr>\n",
       "      <th>61</th>\n",
       "      <td>AMD Radeon RX 6800 XT</td>\n",
       "      <td>-</td>\n",
       "      <td>0.35%</td>\n",
       "      <td>0.35%</td>\n",
       "      <td>0.35%</td>\n",
       "      <td>0.32%</td>\n",
       "      <td>-0.03%</td>\n",
       "    </tr>\n",
       "    <tr>\n",
       "      <th>62</th>\n",
       "      <td>AMD Radeon RX 550</td>\n",
       "      <td>-</td>\n",
       "      <td>0.35%</td>\n",
       "      <td>0.35%</td>\n",
       "      <td>0.34%</td>\n",
       "      <td>0.30%</td>\n",
       "      <td>-0.04%</td>\n",
       "    </tr>\n",
       "    <tr>\n",
       "      <th>63</th>\n",
       "      <td>Other</td>\n",
       "      <td>12.19%</td>\n",
       "      <td>13.39%</td>\n",
       "      <td>13.27%</td>\n",
       "      <td>12.75%</td>\n",
       "      <td>12.78%</td>\n",
       "      <td>+0.03%</td>\n",
       "    </tr>\n",
       "  </tbody>\n",
       "</table>\n",
       "<p>64 rows × 7 columns</p>\n",
       "</div>"
      ],
      "text/plain": [
       "0           DIRECTX 12 GPUS     OCT     NOV     DEC     JAN     FEB % Change\n",
       "0   NVIDIA GeForce RTX 3060  10.17%   5.23%   5.53%   5.19%   6.39%   +1.20%\n",
       "1   NVIDIA GeForce GTX 1650   3.72%   4.93%   4.90%   4.87%   4.38%   -0.49%\n",
       "2   NVIDIA GeForce RTX 2060   6.22%   3.86%   3.87%   3.66%   4.27%   +0.61%\n",
       "3   NVIDIA GeForce GTX 1060   5.23%   4.49%   4.06%   3.85%   4.06%   +0.21%\n",
       "4   NVIDIA GeForce RTX 3070   5.31%   3.34%   3.49%   3.26%   3.99%   +0.73%\n",
       "..                      ...     ...     ...     ...     ...     ...      ...\n",
       "59   AMD Radeon RX 7900 XTX       -   0.33%   0.35%   0.37%   0.36%   -0.01%\n",
       "60    AMD Radeon RX 6750 XT       -   0.33%   0.34%   0.36%   0.32%   -0.04%\n",
       "61    AMD Radeon RX 6800 XT       -   0.35%   0.35%   0.35%   0.32%   -0.03%\n",
       "62        AMD Radeon RX 550       -   0.35%   0.35%   0.34%   0.30%   -0.04%\n",
       "63                    Other  12.19%  13.39%  13.27%  12.75%  12.78%   +0.03%\n",
       "\n",
       "[64 rows x 7 columns]"
      ]
     },
     "execution_count": 137,
     "metadata": {},
     "output_type": "execute_result"
    }
   ],
   "source": [
    "\n",
    "df['DIRECTX 12 GPUS'] = GPU_name\n",
    "df['OCT'] = OCT_usage\n",
    "df['NOV'] = NOV_usage\n",
    "df['DEC'] = DEC_usage\n",
    "df['JAN'] = JAN_usage\n",
    "df['FEB'] = FEB_usage\n",
    "df['% Change'] = percent_change\n",
    "df"
   ]
  },
  {
   "cell_type": "code",
   "execution_count": 138,
   "metadata": {},
   "outputs": [],
   "source": [
    "#save the dataframe to a csv file\n",
    "df.to_csv('PC_Part_Picker_Datasets/GPU_usage_steam.csv', index=False)"
   ]
  }
 ],
 "metadata": {
  "kernelspec": {
   "display_name": "Python 3",
   "language": "python",
   "name": "python3"
  },
  "language_info": {
   "codemirror_mode": {
    "name": "ipython",
    "version": 3
   },
   "file_extension": ".py",
   "mimetype": "text/x-python",
   "name": "python",
   "nbconvert_exporter": "python",
   "pygments_lexer": "ipython3",
   "version": "3.11.8"
  }
 },
 "nbformat": 4,
 "nbformat_minor": 2
}
