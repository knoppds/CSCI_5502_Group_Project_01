{
 "cells": [
  {
   "cell_type": "code",
   "execution_count": 1,
   "metadata": {},
   "outputs": [],
   "source": [
    "from bs4 import BeautifulSoup\n",
    "import requests\n",
    "import pandas as pd"
   ]
  },
  {
   "cell_type": "code",
   "execution_count": 2,
   "metadata": {},
   "outputs": [],
   "source": [
    "url = 'https://store.steampowered.com/hwsurvey/videocard/'\n",
    "request = requests.get(url)\n",
    "soup = BeautifulSoup(request.content, 'html.parser')"
   ]
  },
  {
   "cell_type": "code",
   "execution_count": 5,
   "metadata": {},
   "outputs": [
    {
     "data": {
      "text/plain": [
       "'ALL VIDEO CARDS'"
      ]
     },
     "execution_count": 5,
     "metadata": {},
     "output_type": "execute_result"
    }
   ],
   "source": [
    "table_header = soup.find_all('div', class_='substats_col_left col_header')\n",
    "#strip the html tags\n",
    "table_header = [x.text.strip() for x in table_header]\n",
    "#only keep the first element\n",
    "table_header = table_header[1]\n",
    "table_header"
   ]
  },
  {
   "cell_type": "code",
   "execution_count": 6,
   "metadata": {},
   "outputs": [
    {
     "data": {
      "text/plain": [
       "['OCT', 'NOV', 'DEC', 'JAN']"
      ]
     },
     "execution_count": 6,
     "metadata": {},
     "output_type": "execute_result"
    }
   ],
   "source": [
    "table_months = soup.find_all('div', class_='substats_col_month col_header')\n",
    "#keep only the first 4 elements\n",
    "table_months = table_months[:4]\n",
    "#strip the html tags\n",
    "table_months = [x.text.strip() for x in table_months]\n",
    "table_months"
   ]
  },
  {
   "cell_type": "code",
   "execution_count": 7,
   "metadata": {},
   "outputs": [
    {
     "data": {
      "text/plain": [
       "'FEB'"
      ]
     },
     "execution_count": 7,
     "metadata": {},
     "output_type": "execute_result"
    }
   ],
   "source": [
    "last_month = soup.find_all('div', class_='substats_col_month_last_pct col_header')\n",
    "#strip the html tags\n",
    "last_month = [x.text.strip() for x in last_month]\n",
    "#only keep the first element\n",
    "last_month = last_month[0]\n",
    "last_month"
   ]
  },
  {
   "cell_type": "code",
   "execution_count": 8,
   "metadata": {},
   "outputs": [
    {
     "data": {
      "text/plain": [
       "['ALL VIDEO CARDS', 'OCT', 'NOV', 'DEC', 'JAN', 'FEB', '% Change']"
      ]
     },
     "execution_count": 8,
     "metadata": {},
     "output_type": "execute_result"
    }
   ],
   "source": [
    "#combine all the lists into one list\n",
    "table_header = [table_header] + table_months + [last_month]\n",
    "table_header\n",
    "#add in a column titled % change\n",
    "table_header.append('% Change')\n",
    "table_header"
   ]
  },
  {
   "cell_type": "code",
   "execution_count": 9,
   "metadata": {},
   "outputs": [
    {
     "data": {
      "text/html": [
       "<div>\n",
       "<style scoped>\n",
       "    .dataframe tbody tr th:only-of-type {\n",
       "        vertical-align: middle;\n",
       "    }\n",
       "\n",
       "    .dataframe tbody tr th {\n",
       "        vertical-align: top;\n",
       "    }\n",
       "\n",
       "    .dataframe thead th {\n",
       "        text-align: right;\n",
       "    }\n",
       "</style>\n",
       "<table border=\"1\" class=\"dataframe\">\n",
       "  <thead>\n",
       "    <tr style=\"text-align: right;\">\n",
       "      <th></th>\n",
       "      <th>ALL VIDEO CARDS</th>\n",
       "      <th>OCT</th>\n",
       "      <th>NOV</th>\n",
       "      <th>DEC</th>\n",
       "      <th>JAN</th>\n",
       "      <th>FEB</th>\n",
       "      <th>% Change</th>\n",
       "    </tr>\n",
       "  </thead>\n",
       "  <tbody>\n",
       "  </tbody>\n",
       "</table>\n",
       "</div>"
      ],
      "text/plain": [
       "Empty DataFrame\n",
       "Columns: [ALL VIDEO CARDS, OCT, NOV, DEC, JAN, FEB, % Change]\n",
       "Index: []"
      ]
     },
     "execution_count": 9,
     "metadata": {},
     "output_type": "execute_result"
    }
   ],
   "source": [
    "#turn the list into a dataframe where each element is a column header\n",
    "df = pd.DataFrame(table_header)\n",
    "df = df.T\n",
    "df.columns = df.iloc[0]\n",
    "df = df[1:]\n",
    "df"
   ]
  },
  {
   "cell_type": "code",
   "execution_count": 18,
   "metadata": {},
   "outputs": [],
   "source": [
    "GPU_name = soup.find_all('div', class_='substats_col_left')\n",
    "#strip the html tags\n",
    "GPU_name = [x.text.strip() for x in GPU_name]\n",
    "GPU_name = GPU_name[8:99]\n"
   ]
  },
  {
   "cell_type": "code",
   "execution_count": 38,
   "metadata": {},
   "outputs": [],
   "source": [
    "OCT_usage = soup.find_all('div', class_='substats_col_month')\n",
    "#strip the html tags\n",
    "OCT_usage = [x.text.strip() for x in OCT_usage]\n",
    "OCT_usage = OCT_usage[32:]\n",
    "#only keep every 4th element\n",
    "OCT_usage = OCT_usage[::4]\n",
    "OCT_usage = OCT_usage[:91]\n",
    "\n",
    "#do the same for the other months\n",
    "NOV_usage = soup.find_all('div', class_='substats_col_month')\n",
    "NOV_usage = [x.text.strip() for x in NOV_usage]\n",
    "NOV_usage = NOV_usage[32:]\n",
    "NOV_usage = NOV_usage[1::4]\n",
    "NOV_usage = NOV_usage[:91]\n",
    "\n",
    "DEC_usage = soup.find_all('div', class_='substats_col_month')\n",
    "DEC_usage = [x.text.strip() for x in DEC_usage]\n",
    "DEC_usage = DEC_usage[32:]\n",
    "DEC_usage = DEC_usage[2::4]\n",
    "DEC_usage = DEC_usage[:91]\n",
    "\n",
    "JAN_usage = soup.find_all('div', class_='substats_col_month')\n",
    "JAN_usage = [x.text.strip() for x in JAN_usage]\n",
    "JAN_usage = JAN_usage[32:]\n",
    "JAN_usage = JAN_usage[3::4]\n",
    "JAN_usage = JAN_usage[:91]\n",
    "\n",
    "FEB_usage = soup.find_all('div', class_='substats_col_month_last_pct')\n",
    "FEB_usage = [x.text.strip() for x in FEB_usage]\n",
    "FEB_usage = FEB_usage[8:]\n",
    "FEB_usage = FEB_usage[:91]\n"
   ]
  },
  {
   "cell_type": "code",
   "execution_count": 43,
   "metadata": {},
   "outputs": [],
   "source": [
    "percent_change = soup.find_all('div', class_='substats_col_month_last_chg')\n",
    "percent_change = [x.text.strip() for x in percent_change]\n",
    "percent_change = percent_change[8:]\n",
    "percent_change = percent_change[:91]\n",
    "\n"
   ]
  },
  {
   "cell_type": "code",
   "execution_count": 44,
   "metadata": {},
   "outputs": [
    {
     "data": {
      "text/html": [
       "<div>\n",
       "<style scoped>\n",
       "    .dataframe tbody tr th:only-of-type {\n",
       "        vertical-align: middle;\n",
       "    }\n",
       "\n",
       "    .dataframe tbody tr th {\n",
       "        vertical-align: top;\n",
       "    }\n",
       "\n",
       "    .dataframe thead th {\n",
       "        text-align: right;\n",
       "    }\n",
       "</style>\n",
       "<table border=\"1\" class=\"dataframe\">\n",
       "  <thead>\n",
       "    <tr style=\"text-align: right;\">\n",
       "      <th></th>\n",
       "      <th>ALL VIDEO CARDS</th>\n",
       "      <th>OCT</th>\n",
       "      <th>NOV</th>\n",
       "      <th>DEC</th>\n",
       "      <th>JAN</th>\n",
       "      <th>FEB</th>\n",
       "      <th>% Change</th>\n",
       "    </tr>\n",
       "  </thead>\n",
       "  <tbody>\n",
       "    <tr>\n",
       "      <th>0</th>\n",
       "      <td>NVIDIA GeForce RTX 3060</td>\n",
       "      <td>9.92%</td>\n",
       "      <td>5.04%</td>\n",
       "      <td>5.29%</td>\n",
       "      <td>4.98%</td>\n",
       "      <td>6.17%</td>\n",
       "      <td>+1.19%</td>\n",
       "    </tr>\n",
       "    <tr>\n",
       "      <th>1</th>\n",
       "      <td>NVIDIA GeForce GTX 1650</td>\n",
       "      <td>3.63%</td>\n",
       "      <td>4.76%</td>\n",
       "      <td>4.69%</td>\n",
       "      <td>4.67%</td>\n",
       "      <td>4.23%</td>\n",
       "      <td>-0.44%</td>\n",
       "    </tr>\n",
       "    <tr>\n",
       "      <th>2</th>\n",
       "      <td>NVIDIA GeForce RTX 2060</td>\n",
       "      <td>6.07%</td>\n",
       "      <td>3.71%</td>\n",
       "      <td>3.70%</td>\n",
       "      <td>3.50%</td>\n",
       "      <td>4.12%</td>\n",
       "      <td>+0.62%</td>\n",
       "    </tr>\n",
       "    <tr>\n",
       "      <th>3</th>\n",
       "      <td>NVIDIA GeForce GTX 1060</td>\n",
       "      <td>5.09%</td>\n",
       "      <td>4.32%</td>\n",
       "      <td>3.87%</td>\n",
       "      <td>3.68%</td>\n",
       "      <td>3.90%</td>\n",
       "      <td>+0.22%</td>\n",
       "    </tr>\n",
       "    <tr>\n",
       "      <th>4</th>\n",
       "      <td>NVIDIA GeForce RTX 3070</td>\n",
       "      <td>5.18%</td>\n",
       "      <td>3.23%</td>\n",
       "      <td>3.34%</td>\n",
       "      <td>3.13%</td>\n",
       "      <td>3.85%</td>\n",
       "      <td>+0.72%</td>\n",
       "    </tr>\n",
       "    <tr>\n",
       "      <th>...</th>\n",
       "      <td>...</td>\n",
       "      <td>...</td>\n",
       "      <td>...</td>\n",
       "      <td>...</td>\n",
       "      <td>...</td>\n",
       "      <td>...</td>\n",
       "      <td>...</td>\n",
       "    </tr>\n",
       "    <tr>\n",
       "      <th>86</th>\n",
       "      <td>AMD Radeon RX 6800</td>\n",
       "      <td>-</td>\n",
       "      <td>0.17%</td>\n",
       "      <td>0.17%</td>\n",
       "      <td>0.17%</td>\n",
       "      <td>0.16%</td>\n",
       "      <td>-0.01%</td>\n",
       "    </tr>\n",
       "    <tr>\n",
       "      <th>87</th>\n",
       "      <td>NVIDIA GeForce MX250</td>\n",
       "      <td>-</td>\n",
       "      <td>0.18%</td>\n",
       "      <td>0.18%</td>\n",
       "      <td>0.19%</td>\n",
       "      <td>0.16%</td>\n",
       "      <td>-0.03%</td>\n",
       "    </tr>\n",
       "    <tr>\n",
       "      <th>88</th>\n",
       "      <td>NVIDIA GeForce GT 710</td>\n",
       "      <td>0.15%</td>\n",
       "      <td>0.20%</td>\n",
       "      <td>0.19%</td>\n",
       "      <td>0.19%</td>\n",
       "      <td>0.16%</td>\n",
       "      <td>-0.03%</td>\n",
       "    </tr>\n",
       "    <tr>\n",
       "      <th>89</th>\n",
       "      <td>NVIDIA GeForce RTX 4080 Laptop GPU</td>\n",
       "      <td>-</td>\n",
       "      <td>-</td>\n",
       "      <td>-</td>\n",
       "      <td>0.16%</td>\n",
       "      <td>0.15%</td>\n",
       "      <td>-0.01%</td>\n",
       "    </tr>\n",
       "    <tr>\n",
       "      <th>90</th>\n",
       "      <td>Other</td>\n",
       "      <td>8.96%</td>\n",
       "      <td>9.63%</td>\n",
       "      <td>9.68%</td>\n",
       "      <td>9.38%</td>\n",
       "      <td>9.47%</td>\n",
       "      <td>+0.09%</td>\n",
       "    </tr>\n",
       "  </tbody>\n",
       "</table>\n",
       "<p>91 rows × 7 columns</p>\n",
       "</div>"
      ],
      "text/plain": [
       "0                      ALL VIDEO CARDS    OCT    NOV    DEC    JAN    FEB  \\\n",
       "0              NVIDIA GeForce RTX 3060  9.92%  5.04%  5.29%  4.98%  6.17%   \n",
       "1              NVIDIA GeForce GTX 1650  3.63%  4.76%  4.69%  4.67%  4.23%   \n",
       "2              NVIDIA GeForce RTX 2060  6.07%  3.71%  3.70%  3.50%  4.12%   \n",
       "3              NVIDIA GeForce GTX 1060  5.09%  4.32%  3.87%  3.68%  3.90%   \n",
       "4              NVIDIA GeForce RTX 3070  5.18%  3.23%  3.34%  3.13%  3.85%   \n",
       "..                                 ...    ...    ...    ...    ...    ...   \n",
       "86                  AMD Radeon RX 6800      -  0.17%  0.17%  0.17%  0.16%   \n",
       "87                NVIDIA GeForce MX250      -  0.18%  0.18%  0.19%  0.16%   \n",
       "88               NVIDIA GeForce GT 710  0.15%  0.20%  0.19%  0.19%  0.16%   \n",
       "89  NVIDIA GeForce RTX 4080 Laptop GPU      -      -      -  0.16%  0.15%   \n",
       "90                               Other  8.96%  9.63%  9.68%  9.38%  9.47%   \n",
       "\n",
       "0  % Change  \n",
       "0    +1.19%  \n",
       "1    -0.44%  \n",
       "2    +0.62%  \n",
       "3    +0.22%  \n",
       "4    +0.72%  \n",
       "..      ...  \n",
       "86   -0.01%  \n",
       "87   -0.03%  \n",
       "88   -0.03%  \n",
       "89   -0.01%  \n",
       "90   +0.09%  \n",
       "\n",
       "[91 rows x 7 columns]"
      ]
     },
     "execution_count": 44,
     "metadata": {},
     "output_type": "execute_result"
    }
   ],
   "source": [
    "\n",
    "df['ALL VIDEO CARDS'] = GPU_name\n",
    "df['OCT'] = OCT_usage\n",
    "df['NOV'] = NOV_usage\n",
    "df['DEC'] = DEC_usage\n",
    "df['JAN'] = JAN_usage\n",
    "df['FEB'] = FEB_usage\n",
    "df['% Change'] = percent_change\n",
    "df"
   ]
  },
  {
   "cell_type": "code",
   "execution_count": 45,
   "metadata": {},
   "outputs": [],
   "source": [
    "#save the dataframe to a csv file\n",
    "df.to_csv('PC_Part_Picker_Datasets/GPU_usage_steam.csv', index=False)"
   ]
  }
 ],
 "metadata": {
  "kernelspec": {
   "display_name": "Python 3",
   "language": "python",
   "name": "python3"
  },
  "language_info": {
   "codemirror_mode": {
    "name": "ipython",
    "version": 3
   },
   "file_extension": ".py",
   "mimetype": "text/x-python",
   "name": "python",
   "nbconvert_exporter": "python",
   "pygments_lexer": "ipython3",
   "version": "3.11.8"
  }
 },
 "nbformat": 4,
 "nbformat_minor": 2
}
